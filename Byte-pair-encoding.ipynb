{
  "nbformat": 4,
  "nbformat_minor": 0,
  "metadata": {
    "colab": {
      "provenance": [],
      "authorship_tag": "ABX9TyP8z9qg62k8RjUu5+AFUpV3",
      "include_colab_link": true
    },
    "kernelspec": {
      "name": "python3",
      "display_name": "Python 3"
    },
    "language_info": {
      "name": "python"
    }
  },
  "cells": [
    {
      "cell_type": "markdown",
      "metadata": {
        "id": "view-in-github",
        "colab_type": "text"
      },
      "source": [
        "<a href=\"https://colab.research.google.com/github/Mahdi-Miri/Byte-pair-encoding/blob/main/Byte-pair-encoding.ipynb\" target=\"_parent\"><img src=\"https://colab.research.google.com/assets/colab-badge.svg\" alt=\"Open In Colab\"/></a>"
      ]
    },
    {
      "cell_type": "code",
      "execution_count": 2,
      "metadata": {
        "id": "vwQxDJ4C3d40",
        "colab": {
          "base_uri": "https://localhost:8080/"
        },
        "outputId": "5b28eb79-deb5-48cd-ebe7-d9880c9b75d4"
      },
      "outputs": [
        {
          "output_type": "stream",
          "name": "stdout",
          "text": [
            "Cloning into 'Byte-pair-encoding'...\n",
            "remote: Enumerating objects: 9, done.\u001b[K\n",
            "remote: Counting objects: 100% (9/9), done.\u001b[K\n",
            "remote: Compressing objects: 100% (7/7), done.\u001b[K\n",
            "remote: Total 9 (delta 1), reused 0 (delta 0), pack-reused 0 (from 0)\u001b[K\n",
            "Receiving objects: 100% (9/9), done.\n",
            "Resolving deltas: 100% (1/1), done.\n"
          ]
        }
      ],
      "source": [
        "!git clone https://github.com/Mahdi-Miri/Byte-pair-encoding.git"
      ]
    },
    {
      "cell_type": "code",
      "source": [
        "!pip install tokenizers"
      ],
      "metadata": {
        "id": "f735WMJiBNUX",
        "outputId": "e13fbc4d-e471-48a5-b69e-883de8140e50",
        "colab": {
          "base_uri": "https://localhost:8080/"
        }
      },
      "execution_count": 8,
      "outputs": [
        {
          "output_type": "stream",
          "name": "stdout",
          "text": [
            "Requirement already satisfied: tokenizers in /usr/local/lib/python3.10/dist-packages (0.20.3)\n",
            "Requirement already satisfied: huggingface-hub<1.0,>=0.16.4 in /usr/local/lib/python3.10/dist-packages (from tokenizers) (0.26.2)\n",
            "Requirement already satisfied: filelock in /usr/local/lib/python3.10/dist-packages (from huggingface-hub<1.0,>=0.16.4->tokenizers) (3.16.1)\n",
            "Requirement already satisfied: fsspec>=2023.5.0 in /usr/local/lib/python3.10/dist-packages (from huggingface-hub<1.0,>=0.16.4->tokenizers) (2024.10.0)\n",
            "Requirement already satisfied: packaging>=20.9 in /usr/local/lib/python3.10/dist-packages (from huggingface-hub<1.0,>=0.16.4->tokenizers) (24.2)\n",
            "Requirement already satisfied: pyyaml>=5.1 in /usr/local/lib/python3.10/dist-packages (from huggingface-hub<1.0,>=0.16.4->tokenizers) (6.0.2)\n",
            "Requirement already satisfied: requests in /usr/local/lib/python3.10/dist-packages (from huggingface-hub<1.0,>=0.16.4->tokenizers) (2.32.3)\n",
            "Requirement already satisfied: tqdm>=4.42.1 in /usr/local/lib/python3.10/dist-packages (from huggingface-hub<1.0,>=0.16.4->tokenizers) (4.66.6)\n",
            "Requirement already satisfied: typing-extensions>=3.7.4.3 in /usr/local/lib/python3.10/dist-packages (from huggingface-hub<1.0,>=0.16.4->tokenizers) (4.12.2)\n",
            "Requirement already satisfied: charset-normalizer<4,>=2 in /usr/local/lib/python3.10/dist-packages (from requests->huggingface-hub<1.0,>=0.16.4->tokenizers) (3.4.0)\n",
            "Requirement already satisfied: idna<4,>=2.5 in /usr/local/lib/python3.10/dist-packages (from requests->huggingface-hub<1.0,>=0.16.4->tokenizers) (3.10)\n",
            "Requirement already satisfied: urllib3<3,>=1.21.1 in /usr/local/lib/python3.10/dist-packages (from requests->huggingface-hub<1.0,>=0.16.4->tokenizers) (2.2.3)\n",
            "Requirement already satisfied: certifi>=2017.4.17 in /usr/local/lib/python3.10/dist-packages (from requests->huggingface-hub<1.0,>=0.16.4->tokenizers) (2024.8.30)\n"
          ]
        }
      ]
    },
    {
      "cell_type": "code",
      "source": [
        "import pandas as pd"
      ],
      "metadata": {
        "id": "_Ar83_Xl8cYD"
      },
      "execution_count": 3,
      "outputs": []
    },
    {
      "cell_type": "code",
      "source": [
        "with open('/content/Byte-pair-encoding/test.txt', 'r') as file:\n",
        "    data = file.read()"
      ],
      "metadata": {
        "id": "ADHiJpG98QWl"
      },
      "execution_count": 5,
      "outputs": []
    },
    {
      "cell_type": "code",
      "source": [
        "data"
      ],
      "metadata": {
        "colab": {
          "base_uri": "https://localhost:8080/",
          "height": 437
        },
        "id": "WUpuSF918mWO",
        "outputId": "9ae7cfe4-62ad-4baa-de94-72c9d8400149"
      },
      "execution_count": 6,
      "outputs": [
        {
          "output_type": "execute_result",
          "data": {
            "text/plain": [
              "'Lorem ipsum odor amet, consectetuer adipiscing elit. Curabitur sodales magna litora tellus senectus tempus aliquam faucibus donec. Ultrices viverra mi eget eget pulvinar. Rutrum iaculis montes mattis maximus facilisi sagittis litora massa. Eleifend finibus posuere fames convallis pharetra massa adipiscing sit. Nec donec fringilla molestie vitae congue? Sapien vestibulum fermentum, pulvinar ultrices dolor ad proin. Lectus habitant curabitur auctor vestibulum, dignissim eros.\\n\\nCurabitur accumsan interdum ipsum; commodo enim a aptent. Euismod ac accumsan fames proin eu augue rhoncus nec. Dolor purus magna curabitur pellentesque finibus praesent sem. Ridiculus elementum ultrices hac malesuada per nascetur. Laoreet auctor mauris semper ultricies aenean imperdiet eros elit etiam. Ultrices mollis facilisi accumsan, rhoncus accumsan auctor.\\n\\nEgestas curae maecenas leo iaculis eros libero augue maecenas. Mi suscipit suscipit senectus leo penatibus taciti commodo cursus. Massa erat aliquet nascetur fringilla curae urna. Eleifend metus pharetra pulvinar ultricies porttitor semper porta nulla eget. Tempor mi feugiat lobortis velit porttitor. Ultricies fringilla tempor mollis pharetra taciti. Himenaeos curae mattis aptent rutrum vivamus praesent, neque ad.\\n\\nVolutpat leo est; lobortis maecenas et suspendisse. Ligula et magna efficitur tincidunt curabitur, consequat gravida facilisi. Vitae facilisi libero sed egestas curabitur dis lobortis. Pulvinar justo eget, fermentum at aptent curabitur. Enim pharetra augue placerat facilisi dui arcu mollis. Commodo mauris conubia aliquet, fames euismod quis mattis. Fermentum purus taciti eleifend vivamus nascetur ante.\\n\\nCurabitur sociosqu class ligula rutrum nam mollis vel ac? Dis ridiculus faucibus felis, dapibus dictum mollis elementum. Ac orci aptent eget curabitur nec dis augue. Duis sed scelerisque habitasse dis lobortis. Tempus tristique eleifend laoreet eget mollis pellentesque sodales. Semper curae consectetur lectus hac vivamus nisi volutpat leo. Felis quam nullam facilisis mus nullam, fringilla sem facilisis nulla. Nascetur at malesuada morbi quis, posuere eleifend convallis.'"
            ],
            "application/vnd.google.colaboratory.intrinsic+json": {
              "type": "string"
            }
          },
          "metadata": {},
          "execution_count": 6
        }
      ]
    },
    {
      "cell_type": "code",
      "source": [
        "from tokenizers import Tokenizer\n",
        "from tokenizers.models import BPE"
      ],
      "metadata": {
        "id": "L8EbAcl58ugT"
      },
      "execution_count": 13,
      "outputs": []
    },
    {
      "cell_type": "code",
      "source": [
        "tokenizer = Tokenizer(BPE(unk_token=\"[UNK]\"))"
      ],
      "metadata": {
        "id": "d_HfOljfBD9i"
      },
      "execution_count": 15,
      "outputs": []
    },
    {
      "cell_type": "code",
      "source": [
        "tokenizer"
      ],
      "metadata": {
        "id": "-z13WkS-Bia7",
        "outputId": "8fe4d996-23bb-4833-b4eb-fc6268e7725e",
        "colab": {
          "base_uri": "https://localhost:8080/"
        }
      },
      "execution_count": 16,
      "outputs": [
        {
          "output_type": "execute_result",
          "data": {
            "text/plain": [
              "Tokenizer(version=\"1.0\", truncation=None, padding=None, added_tokens=[], normalizer=None, pre_tokenizer=None, post_processor=None, decoder=None, model=BPE(dropout=None, unk_token=\"[UNK]\", continuing_subword_prefix=None, end_of_word_suffix=None, fuse_unk=False, byte_fallback=False, ignore_merges=False, vocab={}, merges=[]))"
            ]
          },
          "metadata": {},
          "execution_count": 16
        }
      ]
    },
    {
      "cell_type": "code",
      "source": [],
      "metadata": {
        "id": "LHmW5uTABmEm"
      },
      "execution_count": null,
      "outputs": []
    }
  ]
}