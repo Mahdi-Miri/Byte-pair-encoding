{
  "nbformat": 4,
  "nbformat_minor": 0,
  "metadata": {
    "colab": {
      "provenance": [],
      "authorship_tag": "ABX9TyMqEb+ZILrfW0XaViG04mCt",
      "include_colab_link": true
    },
    "kernelspec": {
      "name": "python3",
      "display_name": "Python 3"
    },
    "language_info": {
      "name": "python"
    }
  },
  "cells": [
    {
      "cell_type": "markdown",
      "metadata": {
        "id": "view-in-github",
        "colab_type": "text"
      },
      "source": [
        "<a href=\"https://colab.research.google.com/github/Mahdi-Miri/Byte-pair-encoding/blob/main/Byte-pair-encoding.ipynb\" target=\"_parent\"><img src=\"https://colab.research.google.com/assets/colab-badge.svg\" alt=\"Open In Colab\"/></a>"
      ]
    },
    {
      "cell_type": "code",
      "execution_count": 2,
      "metadata": {
        "id": "vwQxDJ4C3d40",
        "outputId": "5b28eb79-deb5-48cd-ebe7-d9880c9b75d4",
        "colab": {
          "base_uri": "https://localhost:8080/"
        }
      },
      "outputs": [
        {
          "output_type": "stream",
          "name": "stdout",
          "text": [
            "Cloning into 'Byte-pair-encoding'...\n",
            "remote: Enumerating objects: 9, done.\u001b[K\n",
            "remote: Counting objects: 100% (9/9), done.\u001b[K\n",
            "remote: Compressing objects: 100% (7/7), done.\u001b[K\n",
            "remote: Total 9 (delta 1), reused 0 (delta 0), pack-reused 0 (from 0)\u001b[K\n",
            "Receiving objects: 100% (9/9), done.\n",
            "Resolving deltas: 100% (1/1), done.\n"
          ]
        }
      ],
      "source": [
        "!git clone https://github.com/Mahdi-Miri/Byte-pair-encoding.git"
      ]
    },
    {
      "cell_type": "code",
      "source": [
        "import pandas as pd"
      ],
      "metadata": {
        "id": "_Ar83_Xl8cYD"
      },
      "execution_count": 3,
      "outputs": []
    },
    {
      "cell_type": "code",
      "source": [
        "with open('/content/Byte-pair-encoding/test.txt', 'r') as file:\n",
        "    data = file.read()"
      ],
      "metadata": {
        "id": "ADHiJpG98QWl"
      },
      "execution_count": 5,
      "outputs": []
    },
    {
      "cell_type": "code",
      "source": [
        "data"
      ],
      "metadata": {
        "id": "WUpuSF918mWO",
        "outputId": "9ae7cfe4-62ad-4baa-de94-72c9d8400149",
        "colab": {
          "base_uri": "https://localhost:8080/",
          "height": 218
        }
      },
      "execution_count": 6,
      "outputs": [
        {
          "output_type": "execute_result",
          "data": {
            "text/plain": [
              "'Lorem ipsum odor amet, consectetuer adipiscing elit. Curabitur sodales magna litora tellus senectus tempus aliquam faucibus donec. Ultrices viverra mi eget eget pulvinar. Rutrum iaculis montes mattis maximus facilisi sagittis litora massa. Eleifend finibus posuere fames convallis pharetra massa adipiscing sit. Nec donec fringilla molestie vitae congue? Sapien vestibulum fermentum, pulvinar ultrices dolor ad proin. Lectus habitant curabitur auctor vestibulum, dignissim eros.\\n\\nCurabitur accumsan interdum ipsum; commodo enim a aptent. Euismod ac accumsan fames proin eu augue rhoncus nec. Dolor purus magna curabitur pellentesque finibus praesent sem. Ridiculus elementum ultrices hac malesuada per nascetur. Laoreet auctor mauris semper ultricies aenean imperdiet eros elit etiam. Ultrices mollis facilisi accumsan, rhoncus accumsan auctor.\\n\\nEgestas curae maecenas leo iaculis eros libero augue maecenas. Mi suscipit suscipit senectus leo penatibus taciti commodo cursus. Massa erat aliquet nascetur fringilla curae urna. Eleifend metus pharetra pulvinar ultricies porttitor semper porta nulla eget. Tempor mi feugiat lobortis velit porttitor. Ultricies fringilla tempor mollis pharetra taciti. Himenaeos curae mattis aptent rutrum vivamus praesent, neque ad.\\n\\nVolutpat leo est; lobortis maecenas et suspendisse. Ligula et magna efficitur tincidunt curabitur, consequat gravida facilisi. Vitae facilisi libero sed egestas curabitur dis lobortis. Pulvinar justo eget, fermentum at aptent curabitur. Enim pharetra augue placerat facilisi dui arcu mollis. Commodo mauris conubia aliquet, fames euismod quis mattis. Fermentum purus taciti eleifend vivamus nascetur ante.\\n\\nCurabitur sociosqu class ligula rutrum nam mollis vel ac? Dis ridiculus faucibus felis, dapibus dictum mollis elementum. Ac orci aptent eget curabitur nec dis augue. Duis sed scelerisque habitasse dis lobortis. Tempus tristique eleifend laoreet eget mollis pellentesque sodales. Semper curae consectetur lectus hac vivamus nisi volutpat leo. Felis quam nullam facilisis mus nullam, fringilla sem facilisis nulla. Nascetur at malesuada morbi quis, posuere eleifend convallis.'"
            ],
            "application/vnd.google.colaboratory.intrinsic+json": {
              "type": "string"
            }
          },
          "metadata": {},
          "execution_count": 6
        }
      ]
    },
    {
      "cell_type": "code",
      "source": [],
      "metadata": {
        "id": "L8EbAcl58ugT"
      },
      "execution_count": null,
      "outputs": []
    }
  ]
}